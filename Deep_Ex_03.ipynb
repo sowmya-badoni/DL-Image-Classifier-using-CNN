{
 "nbformat": 4,
 "nbformat_minor": 0,
 "metadata": {
  "colab": {
   "provenance": [],
   "gpuType": "T4"
  },
  "kernelspec": {
   "name": "python3",
   "display_name": "Python 3"
  },
  "language_info": {
   "name": "python"
  },
  "accelerator": "GPU"
 },
 "cells": [
  {
   "cell_type": "code",
   "execution_count": 1,
   "metadata": {
    "id": "UbuI3Bqj8NnF",
    "colab": {
     "base_uri": "https://localhost:8080/"
    },
    "outputId": "71b00112-7dde-4bca-a45b-b0a8d99d3470"
   },
   "outputs": [
    {
     "output_type": "stream",
     "name": "stdout",
     "text": [
      "NAME : SANJAY S  REG NO : 212222230132\n"
     ]
    }
   ],
   "source": [
    "import torch\n",
    "import torch.nn as nn\n",
    "import torch.nn.functional as F\n",
    "from torch.utils.data import DataLoader\n",
    "from torchvision import datasets, transforms\n",
    "from torchvision.utils import make_grid\n",
    "\n",
    "import numpy as np\n",
    "import pandas as pd\n",
    "from sklearn.metrics import confusion_matrix\n",
    "import matplotlib.pyplot as plt\n",
    "# Name : Mohammed Saajid\n"
   ]
  },
  {
   "cell_type": "code",
   "source": [
    "transform = transforms.ToTensor()"
   ],
   "metadata": {
    "id": "IuRojd248SsE"
   },
   "execution_count": 2,
   "outputs": []
  },
  {
   "cell_type": "code",
   "source": [
    "train_data = datasets.MNIST(root='../Data', train=True, download=True, transform=transform)"
   ],
   "metadata": {
    "colab": {
     "base_uri": "https://localhost:8080/"
    },
    "id": "h0ecC1th8g4M",
    "outputId": "601d63de-a2c1-4c42-f0cc-dde015485e6a"
   },
   "execution_count": 3,
   "outputs": [
    {
     "output_type": "stream",
     "name": "stderr",
     "text": [
      "100%|\u2588\u2588\u2588\u2588\u2588\u2588\u2588\u2588\u2588\u2588| 9.91M/9.91M [00:00<00:00, 17.6MB/s]\n",
      "100%|\u2588\u2588\u2588\u2588\u2588\u2588\u2588\u2588\u2588\u2588| 28.9k/28.9k [00:00<00:00, 475kB/s]\n",
      "100%|\u2588\u2588\u2588\u2588\u2588\u2588\u2588\u2588\u2588\u2588| 1.65M/1.65M [00:00<00:00, 3.82MB/s]\n",
      "100%|\u2588\u2588\u2588\u2588\u2588\u2588\u2588\u2588\u2588\u2588| 4.54k/4.54k [00:00<00:00, 7.92MB/s]\n"
     ]
    }
   ]
  },
  {
   "cell_type": "code",
   "source": [
    "test_data = datasets.MNIST(root='../Data', train=False, download=True, transform=transform)"
   ],
   "metadata": {
    "id": "8oJpjI1h8knz"
   },
   "execution_count": 4,
   "outputs": []
  },
  {
   "cell_type": "code",
   "source": [
    "train_loader = DataLoader(train_data, batch_size=10, shuffle=True)\n",
    "test_loader = DataLoader(test_data, batch_size=10, shuffle=False)"
   ],
   "metadata": {
    "id": "0k8fw1KA8oiQ"
   },
   "execution_count": 5,
   "outputs": []
  },
  {
   "cell_type": "code",
   "source": [
    "for i, (X_train, y_train) in enumerate(train_data):\n",
    "    break"
   ],
   "metadata": {
    "id": "8-RE2M498vbM"
   },
   "execution_count": 6,
   "outputs": []
  },
  {
   "cell_type": "code",
   "source": [
    "x = X_train.view(1,1,28,28)  # 4D batch ( batch of 1 image)"
   ],
   "metadata": {
    "id": "6qWsFjUk83w-"
   },
   "execution_count": 7,
   "outputs": []
  },
  {
   "cell_type": "code",
   "source": [
    "class ConvolutionalNetwork(nn.Module):\n",
    "\n",
    "    def __init__(self):\n",
    "        super().__init__()\n",
    "        self.conv1 = nn.Conv2d(1,6,3,1)\n",
    "        self.conv2 = nn.Conv2d(6,16,3,1)\n",
    "        self.fc1 = nn.Linear(5*5*16,120)\n",
    "        self.fc2 = nn.Linear(120,84)\n",
    "        self.fc3 = nn.Linear(84,10)\n",
    "\n",
    "    def forward(self, X):\n",
    "        X = F.relu(self.conv1(X))\n",
    "        X = F.max_pool2d(X, 2, 2)\n",
    "        X = F.relu(self.conv2(X))\n",
    "        X = F.max_pool2d(X, 2, 2)\n",
    "        X = X.view(-1, 5*5*16)\n",
    "        X = F.relu(self.fc1(X))\n",
    "        X = F.relu(self.fc2(X))\n",
    "        X = self.fc3(X)\n",
    "        return F.log_softmax(X, dim=1)"
   ],
   "metadata": {
    "id": "0zAFKQCh8-8c"
   },
   "execution_count": 8,
   "outputs": []
  },
  {
   "cell_type": "code",
   "source": [
    "torch.manual_seed(42)\n",
    "model = ConvolutionalNetwork()\n",
    "model"
   ],
   "metadata": {
    "colab": {
     "base_uri": "https://localhost:8080/"
    },
    "id": "OhEtmmbg9hEP",
    "outputId": "24ef0412-eda3-485b-fbf3-18563b9cec2f"
   },
   "execution_count": 9,
   "outputs": [
    {
     "output_type": "execute_result",
     "data": {
      "text/plain": [
       "ConvolutionalNetwork(\n",
       "  (conv1): Conv2d(1, 6, kernel_size=(3, 3), stride=(1, 1))\n",
       "  (conv2): Conv2d(6, 16, kernel_size=(3, 3), stride=(1, 1))\n",
       "  (fc1): Linear(in_features=400, out_features=120, bias=True)\n",
       "  (fc2): Linear(in_features=120, out_features=84, bias=True)\n",
       "  (fc3): Linear(in_features=84, out_features=10, bias=True)\n",
       ")"
      ]
     },
     "metadata": {},
     "execution_count": 9
    }
   ]
  },
  {
   "cell_type": "code",
   "source": [
    "criterion = nn.CrossEntropyLoss()\n",
    "optimizer = torch.optim.Adam(model.parameters(), lr=0.001)"
   ],
   "metadata": {
    "id": "Fg4hh3Rn9mSH"
   },
   "execution_count": 10,
   "outputs": []
  },
  {
   "cell_type": "code",
   "source": [
    "import time\n",
    "start_time = time.time()\n",
    "\n",
    "# Variables ( Trackers)\n",
    "epochs = 5\n",
    "train_losses = []\n",
    "test_losses = []\n",
    "train_correct = []\n",
    "test_correct = []\n",
    "\n",
    "# for loop epochs\n",
    "for i in range(epochs):\n",
    "\n",
    "    trn_corr = 0\n",
    "    tst_corr = 0\n",
    "\n",
    "\n",
    "    # Run the training batches\n",
    "    for b, (X_train, y_train) in enumerate(train_loader):\n",
    "        b+=1\n",
    "\n",
    "        # Apply the model\n",
    "        y_pred = model(X_train)  # we not flatten X-train here\n",
    "        loss = criterion(y_pred, y_train)\n",
    "\n",
    "\n",
    "        predicted = torch.max(y_pred.data, 1)[1]\n",
    "        batch_corr = (predicted == y_train).sum()  # Trure 1 / False 0 sum()\n",
    "        trn_corr += batch_corr\n",
    "\n",
    "        # Update parameters\n",
    "        optimizer.zero_grad()\n",
    "        loss.backward()\n",
    "        optimizer.step()\n",
    "\n",
    "        # Print interim results\n",
    "        if b%600 == 0:\n",
    "            print(f'epoch: {i}  batch: {b} loss: {loss.item()}')\n",
    "\n",
    "    train_losses.append(loss)\n",
    "    train_correct.append(trn_corr)\n",
    "\n",
    "    # Run the testing batches\n",
    "    with torch.no_grad():\n",
    "        for b, (X_test, y_test) in enumerate(test_loader):\n",
    "\n",
    "            # Apply the model\n",
    "            y_val = model(X_test)\n",
    "\n",
    "            # Tally the number of correct predictions\n",
    "            predicted = torch.max(y_val.data, 1)[1]\n",
    "            tst_corr += (predicted == y_test).sum()\n",
    "\n",
    "    loss = criterion(y_val, y_test)\n",
    "    test_losses.append(loss)\n",
    "    test_correct.append(tst_corr)\n",
    "\n",
    "current_time = time.time()\n",
    "total = current_time - start_time\n",
    "print(f'Training took {total/60} minutes')\n"
   ],
   "metadata": {
    "colab": {
     "base_uri": "https://localhost:8080/"
    },
    "id": "kkhXeGWC9t6-",
    "outputId": "d3f8ed58-4739-40f7-b8e1-ee6590966d35"
   },
   "execution_count": 14,
   "outputs": [
    {
     "output_type": "stream",
     "name": "stdout",
     "text": [
      "epoch: 0  batch: 600 loss: 4.9909576773643494e-05\n",
      "epoch: 0  batch: 1200 loss: 0.007061812095344067\n",
      "epoch: 0  batch: 1800 loss: 0.04099487513303757\n",
      "epoch: 0  batch: 2400 loss: 9.318724187323824e-05\n",
      "epoch: 0  batch: 3000 loss: 1.4924518836778589e-05\n",
      "epoch: 0  batch: 3600 loss: 2.8513739380287006e-05\n",
      "epoch: 0  batch: 4200 loss: 1.77140118466923e-05\n",
      "epoch: 0  batch: 4800 loss: 1.685581446508877e-05\n",
      "epoch: 0  batch: 5400 loss: 0.00019749028433579952\n",
      "epoch: 0  batch: 6000 loss: 1.7165544704766944e-05\n",
      "epoch: 1  batch: 600 loss: 0.0012312231119722128\n",
      "epoch: 1  batch: 1200 loss: 0.0006629933486692607\n",
      "epoch: 1  batch: 1800 loss: 0.10067392885684967\n",
      "epoch: 1  batch: 2400 loss: 0.0031222128309309483\n",
      "epoch: 1  batch: 3000 loss: 1.441193489881698e-05\n",
      "epoch: 1  batch: 3600 loss: 1.4781910522287944e-06\n",
      "epoch: 1  batch: 4200 loss: 0.06409941613674164\n",
      "epoch: 1  batch: 4800 loss: 0.0116050336509943\n",
      "epoch: 1  batch: 5400 loss: 0.0002229879319202155\n",
      "epoch: 1  batch: 6000 loss: 0.00012578228779602796\n",
      "epoch: 2  batch: 600 loss: 0.0003466677444521338\n",
      "epoch: 2  batch: 1200 loss: 5.221316769166151e-06\n",
      "epoch: 2  batch: 1800 loss: 0.00017252303950954229\n",
      "epoch: 2  batch: 2400 loss: 0.002441737102344632\n",
      "epoch: 2  batch: 3000 loss: 0.00011282738705631346\n",
      "epoch: 2  batch: 3600 loss: 0.0005925141158513725\n",
      "epoch: 2  batch: 4200 loss: 0.06849881261587143\n",
      "epoch: 2  batch: 4800 loss: 0.0012413995573297143\n",
      "epoch: 2  batch: 5400 loss: 0.00017680824385024607\n",
      "epoch: 2  batch: 6000 loss: 0.0013709545601159334\n",
      "epoch: 3  batch: 600 loss: 0.0002237348526250571\n",
      "epoch: 3  batch: 1200 loss: 0.009975288063287735\n",
      "epoch: 3  batch: 1800 loss: 0.0005890147876925766\n",
      "epoch: 3  batch: 2400 loss: 0.3307194709777832\n",
      "epoch: 3  batch: 3000 loss: 0.01319708488881588\n",
      "epoch: 3  batch: 3600 loss: 2.224229865532834e-05\n",
      "epoch: 3  batch: 4200 loss: 0.003057298017665744\n",
      "epoch: 3  batch: 4800 loss: 5.064616561867297e-05\n",
      "epoch: 3  batch: 5400 loss: 3.065751661779359e-05\n",
      "epoch: 3  batch: 6000 loss: 7.954952889122069e-05\n",
      "epoch: 4  batch: 600 loss: 0.019677991047501564\n",
      "epoch: 4  batch: 1200 loss: 0.17518337070941925\n",
      "epoch: 4  batch: 1800 loss: 0.0006151563720777631\n",
      "epoch: 4  batch: 2400 loss: 7.63640709919855e-05\n",
      "epoch: 4  batch: 3000 loss: 0.03344974294304848\n",
      "epoch: 4  batch: 3600 loss: 0.3911691904067993\n",
      "epoch: 4  batch: 4200 loss: 0.1349148452281952\n",
      "epoch: 4  batch: 4800 loss: 2.5272281618526904e-06\n",
      "epoch: 4  batch: 5400 loss: 0.00028407745412550867\n",
      "epoch: 4  batch: 6000 loss: 9.298302074967069e-07\n",
      "Training took 2.977970310052236 minutes\n"
     ]
    }
   ]
  },
  {
   "cell_type": "code",
   "source": [
    "# Detach and convert to NumPy\n",
    "train_losses = [t.detach().numpy() for t in train_losses]\n",
    "test_losses = [t.detach().numpy() for t in test_losses]\n",
    "\n",
    "plt.plot(train_losses, label='training loss')\n",
    "plt.plot(test_losses, label='validation loss')\n",
    "plt.title('Loss at the end of each epoch')\n",
    "plt.legend();\n",
    "plt.show()"
   ],
   "metadata": {
    "colab": {
     "base_uri": "https://localhost:8080/",
     "height": 452
    },
    "id": "yl2rbeFq93Us",
    "outputId": "f1da93b1-2d0c-45eb-973b-9890280dc272"
   },
   "execution_count": 15,
   "outputs": [
    {
     "output_type": "display_data",
     "data": {
      "text/plain": [
       "<Figure size 640x480 with 1 Axes>"
      ],
      "image/png": "[encoded data removed]"
     },
     "metadata": {}
    }
   ]
  },
  {
   "cell_type": "code",
   "source": [
    "# Name : Mohammed Saajid\n",
    "plt.plot([t/600 for t in train_correct], label='training accuracy')\n",
    "plt.plot([t/100 for t in test_correct], label='validation accuracy')\n",
    "plt.title('Accuracy at the end of each epoch')\n",
    "plt.legend();\n",
    "plt.show()"
   ],
   "metadata": {
    "colab": {
     "base_uri": "https://localhost:8080/",
     "height": 470
    },
    "id": "rCNrxjNu_PbN",
    "outputId": "f41a017c-eefd-4cb9-eacc-5b94d43d5388"
   },
   "execution_count": 16,
   "outputs": [
    {
     "output_type": "stream",
     "name": "stdout",
     "text": [
      "NAME : SANJAY S  REG NO : 212222230132\n"
     ]
    },
    {
     "output_type": "display_data",
     "data": {
      "text/plain": [
       "<Figure size 640x480 with 1 Axes>"
      ],
      "image/png": "[encoded data removed]"
     },
     "metadata": {}
    }
   ]
  },
  {
   "cell_type": "code",
   "source": [
    "\n",
    "# Extract the data all at once, not in batches\n",
    "test_load_all = DataLoader(test_data, batch_size=10000, shuffle=False)"
   ],
   "metadata": {
    "id": "gDjN9r6o_T_i"
   },
   "execution_count": 17,
   "outputs": []
  },
  {
   "cell_type": "code",
   "source": [
    "with torch.no_grad():\n",
    "    correct = 0\n",
    "    for X_test, y_test in test_load_all:\n",
    "        y_val = model(X_test)  # we don't flatten the data this time\n",
    "        predicted = torch.max(y_val,1)[1]\n",
    "        correct += (predicted == y_test).sum()"
   ],
   "metadata": {
    "id": "IF9OC1CF_XxH"
   },
   "execution_count": 18,
   "outputs": []
  },
  {
   "cell_type": "code",
   "source": [
    "\n",
    "correct.item()\n"
   ],
   "metadata": {
    "colab": {
     "base_uri": "https://localhost:8080/"
    },
    "id": "0-7kYvI2_lil",
    "outputId": "198e62e1-b25d-4a1c-99c2-9a837339b94f"
   },
   "execution_count": 19,
   "outputs": [
    {
     "output_type": "execute_result",
     "data": {
      "text/plain": [
       "9858"
      ]
     },
     "metadata": {},
     "execution_count": 19
    }
   ]
  },
  {
   "cell_type": "code",
   "source": [
    "correct.item()/len(test_data)"
   ],
   "metadata": {
    "colab": {
     "base_uri": "https://localhost:8080/"
    },
    "id": "heHlZUx-_oHC",
    "outputId": "779ac73b-97b1-4c41-fa02-4eccc82900e7"
   },
   "execution_count": 20,
   "outputs": [
    {
     "output_type": "execute_result",
     "data": {
      "text/plain": [
       "0.9858"
      ]
     },
     "metadata": {},
     "execution_count": 20
    }
   ]
  },
  {
   "cell_type": "code",
   "source": [
    "# print a row of values for reference\n",
    "np.set_printoptions(formatter=dict(int=lambda x: f'{x:4}'))\n",
    "# Name : Mohammed Saajid\n",
    "print(np.arange(10).reshape(1,10))\n",
    "print()\n",
    "\n",
    "# print the confusion matrix\n",
    "print(confusion_matrix(predicted.view(-1), y_test.view(-1)))"
   ],
   "metadata": {
    "colab": {
     "base_uri": "https://localhost:8080/"
    },
    "id": "gYcoAmgo_w7i",
    "outputId": "5fa1bf17-4ec2-4f26-e8a3-a1d0ba3e0f7a"
   },
   "execution_count": 21,
   "outputs": [
    {
     "output_type": "stream",
     "name": "stdout",
     "text": [
      "NAME : SANJAY S  REG NO : 212222230132\n",
      "[[   0    1    2    3    4    5    6    7    8    9]]\n",
      "\n",
      "[[ 976    0    4    0    0    1    6    0    3    0]\n",
      " [   0 1133   14    1    0    0    2   13    3    3]\n",
      " [   0    0 1002    0    0    0    0    1    2    0]\n",
      " [   0    0    2 1001    0    4    0    0    4    3]\n",
      " [   0    1    1    0  976    0    1    1    1    7]\n",
      " [   0    1    0    6    0  885    7    1    2    8]\n",
      " [   3    0    1    0    4    1  941    0    0    0]\n",
      " [   1    0    7    1    0    0    0 1004    2    0]\n",
      " [   0    0    1    1    0    1    1    1  954    2]\n",
      " [   0    0    0    0    2    0    0    7    3  986]]\n"
     ]
    }
   ]
  },
  {
   "cell_type": "code",
   "source": [
    "# Name : Mohammed Saajid\n",
    "# single image for test\n",
    "plt.imshow(test_data[2000][0].reshape(28,28))\n",
    "plt.show()"
   ],
   "metadata": {
    "colab": {
     "base_uri": "https://localhost:8080/",
     "height": 448
    },
    "id": "BktixPjf_y22",
    "outputId": "8c938d47-90cc-4d3a-c0a2-5a5f67f37d11"
   },
   "execution_count": 22,
   "outputs": [
    {
     "output_type": "stream",
     "name": "stdout",
     "text": [
      "NAME : SANJAY S  REG NO : 212222230132\n"
     ]
    },
    {
     "output_type": "display_data",
     "data": {
      "text/plain": [
       "<Figure size 640x480 with 1 Axes>"
      ],
      "image/png": "[encoded data removed]"
     },
     "metadata": {}
    }
   ]
  },
  {
   "cell_type": "code",
   "source": [
    "model.eval()\n",
    "with torch.no_grad():\n",
    "    new_prediction = model(test_data[2000][0].view(1,1,28,28))"
   ],
   "metadata": {
    "id": "AFp3IUbT_1mS"
   },
   "execution_count": 23,
   "outputs": []
  },
  {
   "cell_type": "code",
   "source": [
    "new_prediction.argmax()"
   ],
   "metadata": {
    "colab": {
     "base_uri": "https://localhost:8080/"
    },
    "id": "5HJaHf2Q_8w8",
    "outputId": "e1ce3f4a-6904-47d0-8fc8-b3ce92901d09"
   },
   "execution_count": 24,
   "outputs": [
    {
     "output_type": "execute_result",
     "data": {
      "text/plain": [
       "tensor(6)"
      ]
     },
     "metadata": {},
     "execution_count": 24
    }
   ]
  },
  {
   "cell_type": "code",
   "source": [
    "test_data[2000][1]"
   ],
   "metadata": {
    "colab": {
     "base_uri": "https://localhost:8080/"
    },
    "id": "sF3ALKSgBSSB",
    "outputId": "cb66ce7e-2c02-4bb2-b346-653a577807ab"
   },
   "execution_count": 25,
   "outputs": [
    {
     "output_type": "execute_result",
     "data": {
      "text/plain": [
       "6"
      ]
     },
     "metadata": {},
     "execution_count": 25
    }
   ]
  },
  {
   "cell_type": "code",
   "source": [
    "torch.save(model.state_dict(), 'sanjay(exp3).pt')"
   ],
   "metadata": {
    "id": "sTwIWswXBYFF"
   },
   "execution_count": 26,
   "outputs": []
  },
  {
   "cell_type": "code",
   "source": [
    "new_model = ConvolutionalNetwork() # Replace Model with ConvolutionalNetwork\n",
    "new_model.load_state_dict(torch.load('sanjay(exp3).pt'))\n",
    "new_model.eval()"
   ],
   "metadata": {
    "colab": {
     "base_uri": "https://localhost:8080/"
    },
    "id": "oEv62vnRCEhC",
    "outputId": "37d2596b-6681-42d9-a178-8a13c123200b"
   },
   "execution_count": 27,
   "outputs": [
    {
     "output_type": "execute_result",
     "data": {
      "text/plain": [
       "ConvolutionalNetwork(\n",
       "  (conv1): Conv2d(1, 6, kernel_size=(3, 3), stride=(1, 1))\n",
       "  (conv2): Conv2d(6, 16, kernel_size=(3, 3), stride=(1, 1))\n",
       "  (fc1): Linear(in_features=400, out_features=120, bias=True)\n",
       "  (fc2): Linear(in_features=120, out_features=84, bias=True)\n",
       "  (fc3): Linear(in_features=84, out_features=10, bias=True)\n",
       ")"
      ]
     },
     "metadata": {},
     "execution_count": 27
    }
   ]
  },
  {
   "cell_type": "code",
   "source": [],
   "metadata": {
    "id": "6d_BueGGCKEL"
   },
   "execution_count": null,
   "outputs": []
  }
 ]
}